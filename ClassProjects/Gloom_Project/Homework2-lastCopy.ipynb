{
 "cells": [
  {
   "cell_type": "markdown",
   "metadata": {},
   "source": [
    "# Homework 2"
   ]
  },
  {
   "cell_type": "markdown",
   "metadata": {},
   "source": [
    "Imports"
   ]
  },
  {
   "cell_type": "code",
   "execution_count": 1,
   "metadata": {},
   "outputs": [],
   "source": [
    "import networkx as nx\n",
    "import scipy as sp\n",
    "import matplotlib.pyplot as plt\n",
    "import seaborn as sns\n",
    "%matplotlib inline \n",
    "import urllib\n",
    "import matplotlib.patches as mpatches"
   ]
  },
  {
   "cell_type": "markdown",
   "metadata": {},
   "source": [
    "Part a. Degree Distribution in FMH data (2 points)\n",
    "-----------------\n",
    "\n",
    "Load Faux Magnolia High data. This is an artificial social network created to be statistically highly similar to a friendship network observed at a large high school in the southern United States as part of the Adolescent Health Study."
   ]
  },
  {
   "cell_type": "code",
   "execution_count": 2,
   "metadata": {},
   "outputs": [],
   "source": [
    "url = \"http://josquin.cti.depaul.edu/~rburke/courses/s14/fmh.graphml\"\n",
    "\n",
    "with urllib.request.urlopen(url) as response:\n",
    "    fmh = nx.read_graphml(response)"
   ]
  },
  {
   "cell_type": "code",
   "execution_count": 3,
   "metadata": {},
   "outputs": [
    {
     "data": {
      "text/plain": [
       "[('n0',\n",
       "  {'Grade': 9.0,\n",
       "   'na': False,\n",
       "   'Race': 'Black',\n",
       "   'Sex': 'F',\n",
       "   'vertex.names': '1'}),\n",
       " ('n1',\n",
       "  {'Grade': 10.0,\n",
       "   'na': False,\n",
       "   'Race': 'Black',\n",
       "   'Sex': 'M',\n",
       "   'vertex.names': '2'}),\n",
       " ('n2',\n",
       "  {'Grade': 12.0,\n",
       "   'na': False,\n",
       "   'Race': 'Black',\n",
       "   'Sex': 'F',\n",
       "   'vertex.names': '3'}),\n",
       " ('n3',\n",
       "  {'Grade': 11.0,\n",
       "   'na': False,\n",
       "   'Race': 'Hisp',\n",
       "   'Sex': 'F',\n",
       "   'vertex.names': '4'}),\n",
       " ('n4',\n",
       "  {'Grade': 9.0,\n",
       "   'na': False,\n",
       "   'Race': 'Black',\n",
       "   'Sex': 'F',\n",
       "   'vertex.names': '5'})]"
      ]
     },
     "execution_count": 3,
     "metadata": {},
     "output_type": "execute_result"
    }
   ],
   "source": [
    "list(fmh.nodes(data=True))[0:5]"
   ]
  },
  {
   "cell_type": "markdown",
   "metadata": {},
   "source": [
    "Plot the degree distribution of the FMH network. The maximum node degree is 8, so use bins from 0 to 8. Fractional size bins don't make any sense with a discrete value like degree. You can try using seaborns' distplot for this.\n"
   ]
  },
  {
   "cell_type": "code",
   "execution_count": 6,
   "metadata": {},
   "outputs": [
    {
     "data": {
      "text/plain": [
       "(array([524., 403., 271., 128.,  85.,  30.,  13.,   7.]),\n",
       " array([0, 1, 2, 3, 4, 5, 6, 7, 8]),\n",
       " <a list of 8 Patch objects>)"
      ]
     },
     "execution_count": 6,
     "metadata": {},
     "output_type": "execute_result"
    },
    {
     "data": {
      "image/png": "[encoded data removed]",
      "text/plain": [
       "<Figure size 432x288 with 1 Axes>"
      ]
     },
     "metadata": {},
     "output_type": "display_data"
    }
   ],
   "source": [
    "plt.ylim(0,530)\n",
    "plt.xlim(0,9)\n",
    "fmh_deg = dict(nx.degree(fmh))\n",
    "plt.hist(fmh_deg.values(),bins = [0,1,2,3,4,5,6,7,8], rwidth=0.8, align='left')"
   ]
  },
  {
   "cell_type": "markdown",
   "metadata": {},
   "source": [
    "Use sp.bincount() to compute the number of values for each degree (essentially the histogram values). "
   ]
  },
  {
   "cell_type": "code",
   "execution_count": 5,
   "metadata": {},
   "outputs": [],
   "source": [
    "x = list(fmh_deg.values())\n",
    "fmh_array = sp.bincount(x)\n"
   ]
  },
  {
   "cell_type": "markdown",
   "metadata": {},
   "source": [
    "Plot A: Do an x/y plot of the bincount data using a log/log scale (`plt.loglog`). Use \"r-o\" to get a line plus dot glyphs for each data point."
   ]
  },
  {
   "cell_type": "code",
   "execution_count": 6,
   "metadata": {},
   "outputs": [
    {
     "data": {
      "text/plain": [
       "[<matplotlib.lines.Line2D at 0x1b83167b048>]"
      ]
     },
     "execution_count": 6,
     "metadata": {},
     "output_type": "execute_result"
    },
    {
     "data": {
      "image/png": "[encoded data removed]",
      "text/plain": [
       "<Figure size 432x288 with 1 Axes>"
      ]
     },
     "metadata": {},
     "output_type": "display_data"
    }
   ],
   "source": [
    "plt.loglog(fmh_array, \"r-o\")"
   ]
  },
  {
   "cell_type": "markdown",
   "metadata": {},
   "source": [
    "Plot B: Do an x/y plot of the bincount data using a log scale for y only (`plt.semilogy`). Use \"b-o\" for the glyph type."
   ]
  },
  {
   "cell_type": "code",
   "execution_count": 7,
   "metadata": {},
   "outputs": [
    {
     "data": {
      "text/plain": [
       "[<matplotlib.lines.Line2D at 0x1b8315e4860>]"
      ]
     },
     "execution_count": 7,
     "metadata": {},
     "output_type": "execute_result"
    },
    {
     "data": {
      "image/png": "[encoded data removed]",
      "text/plain": [
       "<Figure size 432x288 with 1 Axes>"
      ]
     },
     "metadata": {},
     "output_type": "display_data"
    }
   ],
   "source": [
    "plt.semilogy(fmh_array, \"b-o\")"
   ]
  },
  {
   "cell_type": "markdown",
   "metadata": {},
   "source": [
    "Part b. Translating String Attributes (2 points)\n",
    "---------------------\n",
    "\n",
    "Create two new attributes RaceN and GenderN where the race and gender attributes are translated as in the dictionary here.\n"
   ]
  },
  {
   "cell_type": "code",
   "execution_count": 8,
   "metadata": {},
   "outputs": [],
   "source": [
    "race_dict = { u'Asian': 0, u'Black': 1, u'Hisp': 2, \n",
    "             u'NatAm' : 3, u'Other': 4,u'White' : 5}\n",
    "gender_dict = { u'F':0, u'M':1}"
   ]
  },
  {
   "cell_type": "code",
   "execution_count": 9,
   "metadata": {},
   "outputs": [],
   "source": [
    "start_race = dict(nx.get_node_attributes(fmh, 'Race'))\n",
    "items = {}\n",
    "\n",
    "for key in start_race.keys():\n",
    "    val = start_race[key]\n",
    "    val2 = race_dict[val]\n",
    "    items[key] = val2\n",
    "nx.set_node_attributes(fmh, items, 'RaceN')\n",
    "\n",
    "items.clear()\n",
    "\n",
    "start_gender = dict(nx.get_node_attributes(fmh, 'Sex'))\n",
    "\n",
    "for key in start_gender.keys():\n",
    "    val = start_gender[key]\n",
    "    val2 = gender_dict[val]\n",
    "    items[key] = val2\n",
    "nx.set_node_attributes(fmh, items, 'GenderN')\n"
   ]
  },
  {
   "cell_type": "markdown",
   "metadata": {},
   "source": [
    "Your attribute translation is correct for RaceN if the following code produces the following output:\n",
    "`array([  48,  261,   68,   24,    7, 1053])`"
   ]
  },
  {
   "cell_type": "code",
   "execution_count": 10,
   "metadata": {},
   "outputs": [
    {
     "name": "stdout",
     "output_type": "stream",
     "text": [
      "[  48  261   68   24    7 1053]\n",
      "[768 693]\n"
     ]
    }
   ],
   "source": [
    "RaceN = dict(nx.get_node_attributes(fmh, 'RaceN'))\n",
    "print(sp.bincount(list(RaceN.values())))\n",
    "\n",
    "GenderN = dict(nx.get_node_attributes(fmh, 'GenderN'))\n",
    "print(sp.bincount(list(GenderN.values())))"
   ]
  },
  {
   "cell_type": "markdown",
   "metadata": {},
   "source": [
    "Part c. Subgraph with the Giant Component (2 points)\n",
    "------------------\n",
    "\n",
    "Create a subgraph containing only the giant component."
   ]
  },
  {
   "cell_type": "code",
   "execution_count": 41,
   "metadata": {},
   "outputs": [
    {
     "data": {
      "image/png": "[encoded data removed]",
      "text/plain": [
       "<Figure size 432x288 with 1 Axes>"
      ]
     },
     "metadata": {},
     "output_type": "display_data"
    }
   ],
   "source": [
    "tempList = list(nx.connected_components(fmh))\n",
    "giant_comp = nx.subgraph(fmh, tempList[1])\n",
    "\n",
    "nx.draw(giant_comp, node_size=50)\n"
   ]
  },
  {
   "cell_type": "markdown",
   "metadata": {},
   "source": [
    "Save these two graphs in GraphML format."
   ]
  },
  {
   "cell_type": "code",
   "execution_count": 12,
   "metadata": {},
   "outputs": [],
   "source": [
    "nx.write_graphml(fmh, \"fmh.graphml\")\n",
    "nx.write_graphml(giant_comp, \"giant_comp.graphml\")"
   ]
  },
  {
   "cell_type": "markdown",
   "metadata": {},
   "source": [
    "Part d. Racial Makeup of the Giant Component (2 point)\n",
    "-------------------\n",
    "\n",
    "Using `sp.bincount()` compute the number of students of each race in the whole school and in the giant component."
   ]
  },
  {
   "cell_type": "code",
   "execution_count": 13,
   "metadata": {},
   "outputs": [],
   "source": [
    "raceN_array_fmh = sp.bincount(list(RaceN.values()))\n",
    "\n",
    "RaceN_dict_gc = dict(nx.get_node_attributes(giant_comp, 'RaceN'))\n",
    "GenderN_dict_gc = dict(nx.get_node_attributes(giant_comp, 'GenderN'))\n",
    "\n",
    "raceN_array_gc = sp.bincount(list(RaceN_dict_gc.values()))"
   ]
  },
  {
   "cell_type": "markdown",
   "metadata": {},
   "source": [
    "Compute the fraction of students of each race in the whole school and in the giant component."
   ]
  },
  {
   "cell_type": "code",
   "execution_count": 14,
   "metadata": {},
   "outputs": [
    {
     "name": "stdout",
     "output_type": "stream",
     "text": [
      "[0.0329, 0.1786, 0.0465, 0.0164, 0.0048, 0.7207]\n",
      "[0.0319, 0.1207, 0.0319, 0.0137, 0.0046, 0.7973]\n"
     ]
    }
   ],
   "source": [
    "perc_race_fmh = []\n",
    "whole_population = sum(raceN_array_fmh)\n",
    "\n",
    "for race in raceN_array_fmh:\n",
    "    perc = race/whole_population\n",
    "    perc_race_fmh.append(round(perc, 4))\n",
    "print(perc_race_fmh)\n",
    "\n",
    "\n",
    "perc_race_gc = []\n",
    "whole_population_gc = sum(raceN_array_gc)\n",
    "\n",
    "for race in raceN_array_gc:\n",
    "    perc = race/whole_population_gc\n",
    "    perc_race_gc.append(round(perc, 4))\n",
    "print(perc_race_gc)"
   ]
  },
  {
   "cell_type": "markdown",
   "metadata": {},
   "source": [
    "Plot the fractions of each race in the different components in a side-by-side bar plot. See Example Plot 1 in assignment handout."
   ]
  },
  {
   "cell_type": "code",
   "execution_count": 15,
   "metadata": {},
   "outputs": [
    {
     "data": {
      "image/png": "[encoded data removed]",
      "text/plain": [
       "<Figure size 432x288 with 1 Axes>"
      ]
     },
     "metadata": {},
     "output_type": "display_data"
    }
   ],
   "source": [
    "gridnumber = list(range(1,19))\n",
    "\n",
    "\n",
    "race_fmh_bar = plt.bar([1,4,7,10,13,16], perc_race_fmh, width=0.8, color='r', label=\"Full Network\",align='edge')\n",
    "race_gc_bar = plt.bar([3,6,9,12,15,18], perc_race_gc, width=-0.8, color ='b', label=\"Giant Component\",align='edge')\n",
    "\n",
    "plt.ylim([0,.9])\n",
    "plt.xlim([0,19])\n",
    "plt.ylabel(\"% of population\")\n",
    "plt.xticks([2,5,8,11,14,17],(\"Asians\",\"Blacks\",\"Hisp\",\"NatAm\",\"Other\",\"White\"))\n",
    "plt.legend()\n",
    "plt.show()"
   ]
  },
  {
   "cell_type": "markdown",
   "metadata": {},
   "source": [
    "Question: What conclusion about the composition of the giant component can be drawn from this plot?"
   ]
  },
  {
   "cell_type": "markdown",
   "metadata": {},
   "source": [
    "The composition of the giant graph is primarily dominated by the \"White\" race. It would seem that when dropping/excluidng the smaller sized components (which constructed mostly of minority races) the \"White\" fraction of students seemed to maintain their group composition, therefore their population percentage actually increased while the minority groups population percentage took a dive."
   ]
  },
  {
   "cell_type": "markdown",
   "metadata": {},
   "source": [
    "### Part e. Female/Male Degree Distribution (2 points)\n",
    "-----------------------\n",
    "\n",
    "Compute the degree distribution for the female and male students in the population. (Whole graph). (You can use `bincount` for this, too.)"
   ]
  },
  {
   "cell_type": "code",
   "execution_count": 79,
   "metadata": {},
   "outputs": [],
   "source": [
    "sexes = dict(nx.get_node_attributes(fmh, \"Sex\"))\n",
    "dict_males = {}\n",
    "dict_females ={}\n",
    "degree_dict = dict(fmh.degree())\n",
    "\n",
    "for gender in sexes:\n",
    "    if(sexes[gender]=='M'):\n",
    "        dict_males[gender]='M'\n",
    "    else:\n",
    "        dict_females[gender]='F'\n",
    "\n",
    "for person in dict_males:\n",
    "    degree = degree_dict[person]\n",
    "    dict_males[person]= degree\n",
    "\n",
    "for person in dict_females:\n",
    "    degree = degree_dict[person]\n",
    "    dict_females[person]= degree\n",
    "\n",
    "# dict_males now contains the node/person and associated degree value (only males)\n",
    "# same with dict_females BUT only females\n",
    "\n"
   ]
  },
  {
   "cell_type": "markdown",
   "metadata": {},
   "source": [
    "Plot the degree distributions using a line plot. See Example Plot 2."
   ]
  },
  {
   "cell_type": "code",
   "execution_count": 28,
   "metadata": {},
   "outputs": [
    {
     "data": {
      "image/png": "[encoded data removed]",
      "text/plain": [
       "<Figure size 432x288 with 1 Axes>"
      ]
     },
     "metadata": {},
     "output_type": "display_data"
    }
   ],
   "source": [
    "listOfDegs = [0,0,0,0,0,0,0]\n",
    "tot_male = len(dict_males)\n",
    "perc_deg_male = []\n",
    "\n",
    "for male in dict_males:\n",
    "    index = dict_males[male]\n",
    "    listOfDegs[index]+=1\n",
    "    \n",
    "for deg in listOfDegs:\n",
    "    perc = deg/tot_male\n",
    "    perc_deg_male.append(round(perc, 4))\n",
    "\n",
    "listOfDegs = [0,0,0,0,0,0,0,0,0]\n",
    "tot_female = len(dict_females)\n",
    "perc_deg_female = []\n",
    "\n",
    "for female in dict_females:\n",
    "    index = dict_females[female]\n",
    "    listOfDegs[index]+=1\n",
    "    \n",
    "for deg in listOfDegs:\n",
    "    perc = deg/tot_female\n",
    "    perc_deg_female.append(round(perc, 4))\n",
    "\n",
    "#males_line = plt.plot(dict_males.values()) # work in progress\n",
    "males_line = plt.plot([0,1,2,3,4,5,6], perc_deg_male,'b-o',label=\"Males\")\n",
    "females_line = plt.plot([0,1,2,3,4,5,6,7,8], perc_deg_female,'r-o',label=\"Females\")\n",
    "plt.ylabel(\"% of group\")\n",
    "plt.title(\"Degree distribution by gender\")\n",
    "plt.xlabel('Degree')\n",
    "plt.legend()\n",
    "plt.show()"
   ]
  },
  {
   "cell_type": "markdown",
   "metadata": {},
   "source": [
    "Question: What can you conclude from this plot?\n"
   ]
  },
  {
   "cell_type": "markdown",
   "metadata": {},
   "source": [
    "The two plots are similar in many ways. A very small percentage of male and female students have more than 4 or more degrees. The difference can be seen in the beginning where both plots decline. As you can see the male plot takes a steady decline the higher the degree gets to degree value 4, which shows that more males tend to enjoy having only a few close ties, it is more rare for a male to have ties of 4 or more. More males seem to like having no degree at all, a little more than 40% of the male population, but only 30% of the female population has 0 degrees. From 0 degrees to 1 degree is where the males plot takes it's largest dip, females however maintain a linear slope."
   ]
  },
  {
   "cell_type": "markdown",
   "metadata": {},
   "source": [
    "### Part f:\tSegregation calculation (2 pts)\n"
   ]
  },
  {
   "cell_type": "markdown",
   "metadata": {},
   "source": [
    "We will define the segregation of a node as the fraction of the neighbor nodes with the same Race attribute. Should return a dictionary with this value for each node. You may want to write an intermediate function that does the calculation for one node, but that function will have to take the graph as an argument because `neighbors()` is a Graph function. You will have to account for nodes with no neighbors. They should return an Inf value `float('inf')`."
   ]
  },
  {
   "cell_type": "code",
   "execution_count": 49,
   "metadata": {},
   "outputs": [],
   "source": [
    "def segr(graph, node, att):\n",
    "    attr_dict = dict(nx.get_node_attributes(fmh, att))\n",
    "    brothers = list(graph.neighbors(node))\n",
    "    if(len(brothers) == 0):\n",
    "        return float('inf')\n",
    "    \n",
    "    count = 0;\n",
    "    size = len(brothers)\n",
    "    for bro in brothers:\n",
    "        if(attr_dict[bro] == attr_dict[node]):\n",
    "            count = count +1\n",
    "    return count/size"
   ]
  },
  {
   "cell_type": "code",
   "execution_count": 54,
   "metadata": {},
   "outputs": [],
   "source": [
    "fmh1 = fmh.copy()"
   ]
  },
  {
   "cell_type": "markdown",
   "metadata": {},
   "source": [
    "Using your function calculate the segregation values for the whole graph."
   ]
  },
  {
   "cell_type": "code",
   "execution_count": 82,
   "metadata": {},
   "outputs": [],
   "source": [
    "seg_race = {}\n",
    "seg_sex = {}\n",
    "\n",
    "for node in fmh1.nodes():\n",
    "    seg_race[node] = round(segr(fmh1, node, 'Race'), 2)\n",
    "    \n",
    "for node in fmh1.nodes():\n",
    "    seg_sex[node] = round(segr(fmh1, node, 'Sex'), 2)\n"
   ]
  },
  {
   "cell_type": "markdown",
   "metadata": {},
   "source": [
    "Calculate average segregation for male and female students. Ignore the singleton nodes. Use `sp.isinf()` to check for the Inf values. Hint: The value for female students should be between 0.80 and 0.81."
   ]
  },
  {
   "cell_type": "code",
   "execution_count": 96,
   "metadata": {},
   "outputs": [
    {
     "name": "stdout",
     "output_type": "stream",
     "text": [
      "768\n",
      "0.7837084870848711\n"
     ]
    }
   ],
   "source": [
    "fmh2 = fmh.copy()\n",
    "#print(len(fmh2))\n",
    "fmh2.remove_nodes_from(list(nx.isolates(fmh2)))\n",
    "#print(len(fmh2))\n",
    "\n",
    "male_seg = seg_sex.copy()\n",
    "female_seg = seg_sex.copy()\n",
    "\n",
    "\n",
    "for node in dict_males:\n",
    "    del female_seg[node]\n",
    "#print(len(female_seg))\n",
    "for node in dict_females:\n",
    "    del male_seg[node]\n",
    "#print(len(male_seg))\n",
    "    \n",
    "\n",
    "femaleSeg_values = list(female_seg.values())\n",
    "sizeFemales = len(femaleSeg_values)\n",
    "print(sizeFemales)\n",
    "sum1 = 0\n",
    "\n",
    "for val in femaleSeg_values:\n",
    "    if(sp.isinf(val)==False):\n",
    "        sum1 = sum1 + val\n",
    "    else: sizeFemales-=1\n",
    "\n",
    "#avg_females = round(sum(femaleSeg_values)/sizeFemales,2)\n",
    "print(sum1/sizeFemales)\n",
    "\n",
    "\n",
    "\n",
    "\n",
    "\n",
    "\n",
    "\n",
    "\n",
    "\n",
    "\n"
   ]
  },
  {
   "cell_type": "code",
   "execution_count": null,
   "metadata": {},
   "outputs": [],
   "source": []
  }
 ],
 "metadata": {
  "anaconda-cloud": {},
  "kernelspec": {
   "display_name": "Python 3",
   "language": "python",
   "name": "python3"
  },
  "language_info": {
   "codemirror_mode": {
    "name": "ipython",
    "version": 3
   },
   "file_extension": ".py",
   "mimetype": "text/x-python",
   "name": "python",
   "nbconvert_exporter": "python",
   "pygments_lexer": "ipython3",
   "version": "3.6.5"
  }
 },
 "nbformat": 4,
 "nbformat_minor": 1
}
